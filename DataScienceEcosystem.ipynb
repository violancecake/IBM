{
 "cells": [
  {
   "cell_type": "markdown",
   "id": "ef448f3a",
   "metadata": {},
   "source": [
    "# Data Science Tools and Ecosystem"
   ]
  },
  {
   "cell_type": "markdown",
   "id": "ae6a12a0",
   "metadata": {},
   "source": [
    "## In this notebook, Data Science Tools and Ecosystem are summarized."
   ]
  },
  {
   "cell_type": "markdown",
   "id": "28836cdb",
   "metadata": {},
   "source": [
    "Some of the popular languages that Data Scientists use are:\n",
    "1. Python\n",
    "2. SQL\n",
    "3. R"
   ]
  },
  {
   "cell_type": "markdown",
   "id": "86898d3d",
   "metadata": {},
   "source": [
    "Some of the commonly used libraries used by Data Scientists include:\n",
    "1. Tensorflow\n",
    "2. Pandas\n",
    "3. Keras"
   ]
  },
  {
   "cell_type": "markdown",
   "id": "08b9e7d6",
   "metadata": {},
   "source": [
    "## Data Science Tools\n",
    "| id | Tools |\n",
    "|----|-------|\n",
    "| 1 | Tenserflow|\n",
    "| 2 | Tableau |\n",
    "| 3 | MATLAB |"
   ]
  },
  {
   "cell_type": "markdown",
   "id": "91ed5f7f",
   "metadata": {},
   "source": [
    "### Below are a few examples of evaluating arithmetic expressions in Python"
   ]
  },
  {
   "cell_type": "markdown",
   "id": "532bdd69",
   "metadata": {},
   "source": [
    "###### This a simple arithmetic expression to mutiply then add integers\n",
    "(3*4)+5"
   ]
  },
  {
   "cell_type": "markdown",
   "id": "af5acba8",
   "metadata": {},
   "source": [
    "###### This will convert 200 minutes to hours by diving by 60\n",
    "200/60"
   ]
  },
  {
   "cell_type": "markdown",
   "id": "d0d5b50e",
   "metadata": {},
   "source": [
    "## Objectives:\n",
    "List popular languages for Data Science\n",
    "- SQL\n",
    "- R\n",
    "- Python"
   ]
  },
  {
   "cell_type": "markdown",
   "id": "711de281",
   "metadata": {},
   "source": [
    "## Author\n",
    "Ziyi Feng"
   ]
  },
  {
   "cell_type": "code",
   "execution_count": null,
   "id": "7a19c468",
   "metadata": {},
   "outputs": [],
   "source": []
  }
 ],
 "metadata": {
  "kernelspec": {
   "display_name": "Python 3 (ipykernel)",
   "language": "python",
   "name": "python3"
  },
  "language_info": {
   "codemirror_mode": {
    "name": "ipython",
    "version": 3
   },
   "file_extension": ".py",
   "mimetype": "text/x-python",
   "name": "python",
   "nbconvert_exporter": "python",
   "pygments_lexer": "ipython3",
   "version": "3.11.5"
  }
 },
 "nbformat": 4,
 "nbformat_minor": 5
}
