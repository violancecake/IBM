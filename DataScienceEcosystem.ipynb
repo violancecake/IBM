# Data Science Tools and Ecosystem
## In this notebook, Data Science Tools and Ecosystem are summarized.

Some of the popular languages that Data Scientists use are:
1. Python
2. SQL
3. R

Some of the commonly used libraries used by Data Scientists include:
1. Tensorflow
2. Pandas
3. Keras

## Data Science Tools
1. NumPy
2. Pandas
3. Matplotlib

### Below are a few examples of evaluating arithmetic expressions in Python

###### This a simple arithmetic expression to mutiply then add integers
(3*4)+5

###### This will convert 200 minutes to hours by diving by 60
200/60

## Objectives:
List popular languages for Data Science
- SQL
- R
- Python

## Author
Ziyi Feng
